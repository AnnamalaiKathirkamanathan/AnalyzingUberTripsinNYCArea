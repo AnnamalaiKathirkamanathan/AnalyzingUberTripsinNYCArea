{
 "cells": [
  {
   "cell_type": "markdown",
   "metadata": {},
   "source": [
    "# Project 2: Analyzing Uber Trips in NYC\n",
    "## Step 3: Classification Green and Uber Cabs\n",
    "## Jose Oros, Annamalai Kathir"
   ]
  },
  {
   "cell_type": "markdown",
   "metadata": {},
   "source": [
    "To answer our final question of classifying trips into either Uber or Green based on time and location we use 4 different classifiers. We used 10 fold cross validation and grid search to estimate the best parameters. The best model in the model selection phase was chosen to perform in the TEST data. To evaluate the models, we used the cross validated F1 score (we additionally observed precision, recall, and accuracy)."
   ]
  },
  {
   "cell_type": "code",
   "execution_count": 1,
   "metadata": {
    "collapsed": true
   },
   "outputs": [],
   "source": [
    "#import the libraries\n",
    "import pandas as pd\n",
    "import matplotlib.pyplot as plt\n",
    "import numpy as np\n",
    "import seaborn as sns\n",
    "\n",
    "from sklearn import neighbors\n",
    "from sklearn.neural_network import MLPClassifier\n",
    "from sklearn.ensemble import AdaBoostClassifier\n",
    "from sklearn.linear_model import LogisticRegression\n",
    "from sklearn.ensemble import RandomForestClassifier\n",
    "from sklearn.model_selection import train_test_split\n",
    "from sklearn.metrics import explained_variance_score, r2_score, mean_absolute_error, mean_squared_error\n",
    "\n",
    "from sklearn.feature_selection import SelectKBest\n",
    "from sklearn.feature_selection import f_classif\n",
    "\n",
    "from sklearn.pipeline import Pipeline\n",
    "\n",
    "from sklearn.metrics import accuracy_score\n",
    "from sklearn.metrics import precision_score\n",
    "from sklearn.metrics import recall_score\n",
    "from sklearn.metrics import cohen_kappa_score\n",
    "from sklearn.metrics import f1_score\n",
    "from sklearn.preprocessing import LabelEncoder\n",
    "\n",
    "from sklearn.model_selection import KFold\n",
    "from sklearn.model_selection import GridSearchCV\n",
    "from sklearn.metrics import confusion_matrix, f1_score, classification_report, fbeta_score\n",
    "from imblearn.over_sampling import RandomOverSampler\n",
    "\n",
    "\n",
    "%matplotlib inline"
   ]
  },
  {
   "cell_type": "markdown",
   "metadata": {},
   "source": [
    "Read cab data"
   ]
  },
  {
   "cell_type": "code",
   "execution_count": 2,
   "metadata": {
    "collapsed": true
   },
   "outputs": [],
   "source": [
    "green_trip = pd.read_csv('../Data/green_trips.csv')\n",
    "#yellow_15q2= pd.read_csv('../Data/yellow_trips_2014Q2.csv')\n",
    "#yellow_14q3= pd.read_csv('../Data/yellow_trips_2014Q3.csv')\n",
    "#yellow_15q1= pd.read_csv('../Data/yellow_trips_2015Q1.csv')\n",
    "#yellow_15q2= pd.read_csv('../Data/yellow_trips_2015Q2.csv')"
   ]
  },
  {
   "cell_type": "markdown",
   "metadata": {},
   "source": [
    "Takeing equal samples of Green and Uber cabs (50000)"
   ]
  },
  {
   "cell_type": "code",
   "execution_count": 3,
   "metadata": {
    "collapsed": false
   },
   "outputs": [],
   "source": [
    "green_trip_sub = green_trip.sample(50000)\n",
    "green_trip_sub = green_trip_sub[(green_trip_sub.pickup_longitude != 0) & (green_trip_sub.pickup_latitude != 0)]\n",
    "green_trip_sub = green_trip_sub.drop(['dropoff_datetime','dropoff_longitude','passenger_count','trip_distance', 'total_amount', 'dropoff_latitude'],axis=1)"
   ]
  },
  {
   "cell_type": "code",
   "execution_count": 4,
   "metadata": {
    "collapsed": false
   },
   "outputs": [
    {
     "data": {
      "text/plain": [
       "Index(['pickup_datetime', 'pickup_longitude', 'pickup_latitude'], dtype='object')"
      ]
     },
     "execution_count": 4,
     "metadata": {},
     "output_type": "execute_result"
    }
   ],
   "source": [
    "green_trip_sub.columns"
   ]
  },
  {
   "cell_type": "markdown",
   "metadata": {},
   "source": [
    "Map the data for Green cabs (finding NTA codes from latitute and longitude information)"
   ]
  },
  {
   "cell_type": "code",
   "execution_count": 5,
   "metadata": {
    "collapsed": true
   },
   "outputs": [],
   "source": [
    "zones_df = pd.read_csv('../Data/zones.csv')\n",
    "geo_df = pd.read_csv('../Data/geographic.csv')"
   ]
  },
  {
   "cell_type": "code",
   "execution_count": 6,
   "metadata": {
    "collapsed": true
   },
   "outputs": [],
   "source": [
    "from shapely.geometry import Point\n",
    "from shapely.geometry.polygon import Polygon"
   ]
  },
  {
   "cell_type": "code",
   "execution_count": 7,
   "metadata": {
    "collapsed": true
   },
   "outputs": [],
   "source": [
    "#creating a polygon for each of the NTA CODES in a dictionary, having the NTA code as the key and the polygon as the value\n",
    "geo_new = {}\n",
    "for col in geo_df:\n",
    "    count = 0\n",
    "    long = []\n",
    "    lat = []\n",
    "    for coord in geo_df[col].dropna():\n",
    "        if count % 2 == 0:\n",
    "            long.append(coord)\n",
    "        else:\n",
    "            lat.append(coord)\n",
    "        count += 1\n",
    "    \n",
    "    poly = Polygon(list(zip(lat,long)))\n",
    "    geo_new[col] = poly\n",
    "    "
   ]
  },
  {
   "cell_type": "code",
   "execution_count": 8,
   "metadata": {
    "collapsed": true
   },
   "outputs": [],
   "source": [
    "#Function to check coordinates and output what NTA code they belong to\n",
    "def check_coords(point, geo_new):\n",
    "    for key,area in geo_new.items():\n",
    "        if area.contains(Point(point)):\n",
    "            return key\n",
    "    "
   ]
  },
  {
   "cell_type": "code",
   "execution_count": 9,
   "metadata": {
    "collapsed": true
   },
   "outputs": [],
   "source": [
    "#run the function\n",
    "green_trip_sub['zipped'] = list(zip(green_trip_sub['pickup_latitude'],green_trip_sub['pickup_longitude']))\n",
    "green_trip_sub['nta_code'] = [check_coords(x,geo_new) for x in green_trip_sub['zipped']]"
   ]
  },
  {
   "cell_type": "code",
   "execution_count": 35,
   "metadata": {
    "collapsed": false
   },
   "outputs": [
    {
     "data": {
      "text/html": [
       "<div>\n",
       "<table border=\"1\" class=\"dataframe\">\n",
       "  <thead>\n",
       "    <tr style=\"text-align: right;\">\n",
       "      <th></th>\n",
       "      <th>pickup_datetime</th>\n",
       "      <th>pickup_longitude</th>\n",
       "      <th>pickup_latitude</th>\n",
       "      <th>zipped</th>\n",
       "      <th>nta_code</th>\n",
       "      <th>time</th>\n",
       "      <th>hour</th>\n",
       "      <th>day_week</th>\n",
       "      <th>day_month</th>\n",
       "      <th>day_year</th>\n",
       "      <th>month</th>\n",
       "      <th>date_only</th>\n",
       "      <th>week_year</th>\n",
       "      <th>trip</th>\n",
       "    </tr>\n",
       "  </thead>\n",
       "  <tbody>\n",
       "    <tr>\n",
       "      <th>0</th>\n",
       "      <td>2015-05-04 08:49:09</td>\n",
       "      <td>-73.961197</td>\n",
       "      <td>40.716579</td>\n",
       "      <td>(40.7165794373, -73.9611968994)</td>\n",
       "      <td>BK73</td>\n",
       "      <td>08:49:09</td>\n",
       "      <td>8</td>\n",
       "      <td>0</td>\n",
       "      <td>4</td>\n",
       "      <td>124</td>\n",
       "      <td>5</td>\n",
       "      <td>2015-05-04</td>\n",
       "      <td>19</td>\n",
       "      <td>0</td>\n",
       "    </tr>\n",
       "    <tr>\n",
       "      <th>1</th>\n",
       "      <td>2015-02-11 15:21:41</td>\n",
       "      <td>-73.953438</td>\n",
       "      <td>40.822590</td>\n",
       "      <td>(40.8225898743, -73.9534378052)</td>\n",
       "      <td>MN04</td>\n",
       "      <td>15:21:41</td>\n",
       "      <td>15</td>\n",
       "      <td>2</td>\n",
       "      <td>11</td>\n",
       "      <td>42</td>\n",
       "      <td>2</td>\n",
       "      <td>2015-02-11</td>\n",
       "      <td>7</td>\n",
       "      <td>0</td>\n",
       "    </tr>\n",
       "    <tr>\n",
       "      <th>2</th>\n",
       "      <td>2015-06-18 18:34:44</td>\n",
       "      <td>-73.912041</td>\n",
       "      <td>40.775227</td>\n",
       "      <td>(40.775226593, -73.9120407104)</td>\n",
       "      <td>QN72</td>\n",
       "      <td>18:34:44</td>\n",
       "      <td>18</td>\n",
       "      <td>3</td>\n",
       "      <td>18</td>\n",
       "      <td>169</td>\n",
       "      <td>6</td>\n",
       "      <td>2015-06-18</td>\n",
       "      <td>25</td>\n",
       "      <td>0</td>\n",
       "    </tr>\n",
       "    <tr>\n",
       "      <th>3</th>\n",
       "      <td>2014-08-03 00:43:22</td>\n",
       "      <td>-73.885834</td>\n",
       "      <td>40.842884</td>\n",
       "      <td>(40.8428840637, -73.8858337402)</td>\n",
       "      <td>BX17</td>\n",
       "      <td>00:43:22</td>\n",
       "      <td>0</td>\n",
       "      <td>6</td>\n",
       "      <td>3</td>\n",
       "      <td>215</td>\n",
       "      <td>8</td>\n",
       "      <td>2014-08-03</td>\n",
       "      <td>31</td>\n",
       "      <td>0</td>\n",
       "    </tr>\n",
       "    <tr>\n",
       "      <th>4</th>\n",
       "      <td>2015-01-15 13:36:28</td>\n",
       "      <td>-73.953346</td>\n",
       "      <td>40.787098</td>\n",
       "      <td>(40.7870979309, -73.9533462524)</td>\n",
       "      <td>MN33</td>\n",
       "      <td>13:36:28</td>\n",
       "      <td>13</td>\n",
       "      <td>3</td>\n",
       "      <td>15</td>\n",
       "      <td>15</td>\n",
       "      <td>1</td>\n",
       "      <td>2015-01-15</td>\n",
       "      <td>3</td>\n",
       "      <td>0</td>\n",
       "    </tr>\n",
       "  </tbody>\n",
       "</table>\n",
       "</div>"
      ],
      "text/plain": [
       "      pickup_datetime  pickup_longitude  pickup_latitude  \\\n",
       "0 2015-05-04 08:49:09        -73.961197        40.716579   \n",
       "1 2015-02-11 15:21:41        -73.953438        40.822590   \n",
       "2 2015-06-18 18:34:44        -73.912041        40.775227   \n",
       "3 2014-08-03 00:43:22        -73.885834        40.842884   \n",
       "4 2015-01-15 13:36:28        -73.953346        40.787098   \n",
       "\n",
       "                            zipped nta_code      time  hour  day_week  \\\n",
       "0  (40.7165794373, -73.9611968994)     BK73  08:49:09     8         0   \n",
       "1  (40.8225898743, -73.9534378052)     MN04  15:21:41    15         2   \n",
       "2   (40.775226593, -73.9120407104)     QN72  18:34:44    18         3   \n",
       "3  (40.8428840637, -73.8858337402)     BX17  00:43:22     0         6   \n",
       "4  (40.7870979309, -73.9533462524)     MN33  13:36:28    13         3   \n",
       "\n",
       "   day_month  day_year  month   date_only  week_year  trip  \n",
       "0          4       124      5  2015-05-04         19     0  \n",
       "1         11        42      2  2015-02-11          7     0  \n",
       "2         18       169      6  2015-06-18         25     0  \n",
       "3          3       215      8  2014-08-03         31     0  \n",
       "4         15        15      1  2015-01-15          3     0  "
      ]
     },
     "execution_count": 35,
     "metadata": {},
     "output_type": "execute_result"
    }
   ],
   "source": [
    "green_trip_sub.head()"
   ]
  },
  {
   "cell_type": "code",
   "execution_count": 36,
   "metadata": {
    "collapsed": false
   },
   "outputs": [],
   "source": [
    "green_trip_sub.dropna(inplace=True)\n",
    "green_trip_sub.drop(['zipped','pickup_longitude','pickup_latitude'], axis=1, inplace=True)\n",
    "green_trip_sub = green_trip_sub.reset_index(drop=True)"
   ]
  },
  {
   "cell_type": "markdown",
   "metadata": {},
   "source": [
    "Now, include time information features"
   ]
  },
  {
   "cell_type": "code",
   "execution_count": 38,
   "metadata": {
    "collapsed": true
   },
   "outputs": [],
   "source": [
    "green_trip_sub['pickup_datetime'] = pd.to_datetime(green_trip_sub['pickup_datetime'])"
   ]
  },
  {
   "cell_type": "code",
   "execution_count": 39,
   "metadata": {
    "collapsed": true
   },
   "outputs": [],
   "source": [
    "green_trip_sub['time'] = green_trip_sub.pickup_datetime.dt.time\n",
    "green_trip_sub['hour'] = green_trip_sub.pickup_datetime.dt.hour\n",
    "green_trip_sub['day_week'] = green_trip_sub.pickup_datetime.dt.dayofweek\n",
    "green_trip_sub['day_month'] = green_trip_sub.pickup_datetime.dt.day\n",
    "green_trip_sub['day_year'] = green_trip_sub.pickup_datetime.dt.dayofyear\n",
    "green_trip_sub['month'] = green_trip_sub.pickup_datetime.dt.month\n",
    "green_trip_sub['date_only'] = green_trip_sub.pickup_datetime.dt.date\n",
    "green_trip_sub['week_year'] = green_trip_sub.pickup_datetime.dt.weekofyear"
   ]
  },
  {
   "cell_type": "markdown",
   "metadata": {},
   "source": [
    "# Classification Model"
   ]
  },
  {
   "cell_type": "markdown",
   "metadata": {
    "collapsed": true
   },
   "source": [
    "Import uber trips and take 50,000 samples so that the data is balanced with Green cabs data"
   ]
  },
  {
   "cell_type": "code",
   "execution_count": 17,
   "metadata": {
    "collapsed": true
   },
   "outputs": [],
   "source": [
    "uber_trip = pd.read_csv('uber_trip.csv')\n",
    "uber_trip_sub = uber_trip.sample(50000)"
   ]
  },
  {
   "cell_type": "code",
   "execution_count": 41,
   "metadata": {
    "collapsed": true
   },
   "outputs": [],
   "source": [
    "#all data\n",
    "uber_trip_sub['pickup_datetime'] = pd.to_datetime(uber_trip_sub['pickup_datetime'])\n",
    "uber_trip_sub['time'] = uber_trip_sub.pickup_datetime.dt.time\n",
    "uber_trip_sub['hour'] =uber_trip_sub.pickup_datetime.dt.hour\n",
    "uber_trip_sub['day_week'] = uber_trip_sub.pickup_datetime.dt.dayofweek\n",
    "uber_trip_sub['day_month'] = uber_trip_sub.pickup_datetime.dt.day\n",
    "uber_trip_sub['day_year'] = uber_trip_sub.pickup_datetime.dt.dayofyear\n",
    "uber_trip_sub['month'] = uber_trip_sub.pickup_datetime.dt.month\n",
    "uber_trip_sub['date_only'] = uber_trip_sub.pickup_datetime.dt.date\n",
    "uber_trip_sub['week_year'] = uber_trip_sub.pickup_datetime.dt.weekofyear"
   ]
  },
  {
   "cell_type": "code",
   "execution_count": 42,
   "metadata": {
    "collapsed": false
   },
   "outputs": [
    {
     "data": {
      "text/html": [
       "<div>\n",
       "<table border=\"1\" class=\"dataframe\">\n",
       "  <thead>\n",
       "    <tr style=\"text-align: right;\">\n",
       "      <th></th>\n",
       "      <th>pickup_datetime</th>\n",
       "      <th>nta_code</th>\n",
       "      <th>time</th>\n",
       "      <th>hour</th>\n",
       "      <th>day_week</th>\n",
       "      <th>day_month</th>\n",
       "      <th>day_year</th>\n",
       "      <th>month</th>\n",
       "      <th>date_only</th>\n",
       "      <th>trip</th>\n",
       "      <th>week_year</th>\n",
       "    </tr>\n",
       "  </thead>\n",
       "  <tbody>\n",
       "    <tr>\n",
       "      <th>0</th>\n",
       "      <td>2015-03-09 15:17:00</td>\n",
       "      <td>MN24</td>\n",
       "      <td>15:17:00</td>\n",
       "      <td>15</td>\n",
       "      <td>0</td>\n",
       "      <td>9</td>\n",
       "      <td>68</td>\n",
       "      <td>3</td>\n",
       "      <td>2015-03-09</td>\n",
       "      <td>1</td>\n",
       "      <td>11</td>\n",
       "    </tr>\n",
       "    <tr>\n",
       "      <th>1</th>\n",
       "      <td>2015-06-13 12:09:00</td>\n",
       "      <td>BK21</td>\n",
       "      <td>12:09:00</td>\n",
       "      <td>12</td>\n",
       "      <td>5</td>\n",
       "      <td>13</td>\n",
       "      <td>164</td>\n",
       "      <td>6</td>\n",
       "      <td>2015-06-13</td>\n",
       "      <td>1</td>\n",
       "      <td>24</td>\n",
       "    </tr>\n",
       "    <tr>\n",
       "      <th>2</th>\n",
       "      <td>2015-03-24 23:17:00</td>\n",
       "      <td>MN34</td>\n",
       "      <td>23:17:00</td>\n",
       "      <td>23</td>\n",
       "      <td>1</td>\n",
       "      <td>24</td>\n",
       "      <td>83</td>\n",
       "      <td>3</td>\n",
       "      <td>2015-03-24</td>\n",
       "      <td>1</td>\n",
       "      <td>13</td>\n",
       "    </tr>\n",
       "    <tr>\n",
       "      <th>3</th>\n",
       "      <td>2015-04-25 14:40:00</td>\n",
       "      <td>BK09</td>\n",
       "      <td>14:40:00</td>\n",
       "      <td>14</td>\n",
       "      <td>5</td>\n",
       "      <td>25</td>\n",
       "      <td>115</td>\n",
       "      <td>4</td>\n",
       "      <td>2015-04-25</td>\n",
       "      <td>1</td>\n",
       "      <td>17</td>\n",
       "    </tr>\n",
       "    <tr>\n",
       "      <th>4</th>\n",
       "      <td>2015-05-15 16:22:00</td>\n",
       "      <td>QN01</td>\n",
       "      <td>16:22:00</td>\n",
       "      <td>16</td>\n",
       "      <td>4</td>\n",
       "      <td>15</td>\n",
       "      <td>135</td>\n",
       "      <td>5</td>\n",
       "      <td>2015-05-15</td>\n",
       "      <td>1</td>\n",
       "      <td>20</td>\n",
       "    </tr>\n",
       "  </tbody>\n",
       "</table>\n",
       "</div>"
      ],
      "text/plain": [
       "      pickup_datetime nta_code      time  hour  day_week  day_month  day_year  \\\n",
       "0 2015-03-09 15:17:00     MN24  15:17:00    15         0          9        68   \n",
       "1 2015-06-13 12:09:00     BK21  12:09:00    12         5         13       164   \n",
       "2 2015-03-24 23:17:00     MN34  23:17:00    23         1         24        83   \n",
       "3 2015-04-25 14:40:00     BK09  14:40:00    14         5         25       115   \n",
       "4 2015-05-15 16:22:00     QN01  16:22:00    16         4         15       135   \n",
       "\n",
       "   month   date_only  trip  week_year  \n",
       "0      3  2015-03-09     1         11  \n",
       "1      6  2015-06-13     1         24  \n",
       "2      3  2015-03-24     1         13  \n",
       "3      4  2015-04-25     1         17  \n",
       "4      5  2015-05-15     1         20  "
      ]
     },
     "execution_count": 42,
     "metadata": {},
     "output_type": "execute_result"
    }
   ],
   "source": [
    "uber_trip_sub.head()"
   ]
  },
  {
   "cell_type": "code",
   "execution_count": 43,
   "metadata": {
    "collapsed": false
   },
   "outputs": [
    {
     "data": {
      "text/plain": [
       "(50000, 11)"
      ]
     },
     "execution_count": 43,
     "metadata": {},
     "output_type": "execute_result"
    }
   ],
   "source": [
    "uber_trip_sub.shape"
   ]
  },
  {
   "cell_type": "code",
   "execution_count": 45,
   "metadata": {
    "collapsed": false
   },
   "outputs": [],
   "source": [
    "#uber_trip_sub.drop(['Unnamed: 0','Unnamed: 0.1'], axis=1, inplace=True)"
   ]
  },
  {
   "cell_type": "code",
   "execution_count": 46,
   "metadata": {
    "collapsed": false
   },
   "outputs": [],
   "source": [
    "uber_trip_sub.reset_index(drop=True,inplace=True)"
   ]
  },
  {
   "cell_type": "code",
   "execution_count": 166,
   "metadata": {
    "collapsed": false
   },
   "outputs": [
    {
     "data": {
      "text/html": [
       "<div>\n",
       "<table border=\"1\" class=\"dataframe\">\n",
       "  <thead>\n",
       "    <tr style=\"text-align: right;\">\n",
       "      <th></th>\n",
       "      <th>pickup_datetime</th>\n",
       "      <th>nta_code</th>\n",
       "      <th>time</th>\n",
       "      <th>hour</th>\n",
       "      <th>day_week</th>\n",
       "      <th>day_month</th>\n",
       "      <th>day_year</th>\n",
       "      <th>month</th>\n",
       "      <th>date_only</th>\n",
       "      <th>trip</th>\n",
       "      <th>week_year</th>\n",
       "    </tr>\n",
       "  </thead>\n",
       "  <tbody>\n",
       "    <tr>\n",
       "      <th>0</th>\n",
       "      <td>2015-03-09 15:17:00</td>\n",
       "      <td>MN24</td>\n",
       "      <td>15:17:00</td>\n",
       "      <td>15</td>\n",
       "      <td>0</td>\n",
       "      <td>9</td>\n",
       "      <td>68</td>\n",
       "      <td>3</td>\n",
       "      <td>2015-03-09</td>\n",
       "      <td>1</td>\n",
       "      <td>11</td>\n",
       "    </tr>\n",
       "    <tr>\n",
       "      <th>1</th>\n",
       "      <td>2015-06-13 12:09:00</td>\n",
       "      <td>BK21</td>\n",
       "      <td>12:09:00</td>\n",
       "      <td>12</td>\n",
       "      <td>5</td>\n",
       "      <td>13</td>\n",
       "      <td>164</td>\n",
       "      <td>6</td>\n",
       "      <td>2015-06-13</td>\n",
       "      <td>1</td>\n",
       "      <td>24</td>\n",
       "    </tr>\n",
       "    <tr>\n",
       "      <th>2</th>\n",
       "      <td>2015-03-24 23:17:00</td>\n",
       "      <td>MN34</td>\n",
       "      <td>23:17:00</td>\n",
       "      <td>23</td>\n",
       "      <td>1</td>\n",
       "      <td>24</td>\n",
       "      <td>83</td>\n",
       "      <td>3</td>\n",
       "      <td>2015-03-24</td>\n",
       "      <td>1</td>\n",
       "      <td>13</td>\n",
       "    </tr>\n",
       "    <tr>\n",
       "      <th>3</th>\n",
       "      <td>2015-04-25 14:40:00</td>\n",
       "      <td>BK09</td>\n",
       "      <td>14:40:00</td>\n",
       "      <td>14</td>\n",
       "      <td>5</td>\n",
       "      <td>25</td>\n",
       "      <td>115</td>\n",
       "      <td>4</td>\n",
       "      <td>2015-04-25</td>\n",
       "      <td>1</td>\n",
       "      <td>17</td>\n",
       "    </tr>\n",
       "    <tr>\n",
       "      <th>4</th>\n",
       "      <td>2015-05-15 16:22:00</td>\n",
       "      <td>QN01</td>\n",
       "      <td>16:22:00</td>\n",
       "      <td>16</td>\n",
       "      <td>4</td>\n",
       "      <td>15</td>\n",
       "      <td>135</td>\n",
       "      <td>5</td>\n",
       "      <td>2015-05-15</td>\n",
       "      <td>1</td>\n",
       "      <td>20</td>\n",
       "    </tr>\n",
       "  </tbody>\n",
       "</table>\n",
       "</div>"
      ],
      "text/plain": [
       "      pickup_datetime nta_code      time  hour  day_week  day_month  day_year  \\\n",
       "0 2015-03-09 15:17:00     MN24  15:17:00    15         0          9        68   \n",
       "1 2015-06-13 12:09:00     BK21  12:09:00    12         5         13       164   \n",
       "2 2015-03-24 23:17:00     MN34  23:17:00    23         1         24        83   \n",
       "3 2015-04-25 14:40:00     BK09  14:40:00    14         5         25       115   \n",
       "4 2015-05-15 16:22:00     QN01  16:22:00    16         4         15       135   \n",
       "\n",
       "   month   date_only  trip  week_year  \n",
       "0      3  2015-03-09     1         11  \n",
       "1      6  2015-06-13     1         24  \n",
       "2      3  2015-03-24     1         13  \n",
       "3      4  2015-04-25     1         17  \n",
       "4      5  2015-05-15     1         20  "
      ]
     },
     "execution_count": 166,
     "metadata": {},
     "output_type": "execute_result"
    }
   ],
   "source": [
    "uber_trip_sub.head()"
   ]
  },
  {
   "cell_type": "markdown",
   "metadata": {},
   "source": [
    "Now we label the data trips as 1 for uber and 0 for green cabs at aggregated level so that we can pass it through classification models"
   ]
  },
  {
   "cell_type": "code",
   "execution_count": 167,
   "metadata": {
    "collapsed": true
   },
   "outputs": [],
   "source": [
    "uber_trip_sub['trip'] = 1\n",
    "green_trip_sub['trip'] = 0"
   ]
  },
  {
   "cell_type": "code",
   "execution_count": 168,
   "metadata": {
    "collapsed": false
   },
   "outputs": [],
   "source": [
    "#green_trip_sub.drop(['pickup_longitude', 'pickup_latitude'], axis=1, inplace=True)"
   ]
  },
  {
   "cell_type": "code",
   "execution_count": 169,
   "metadata": {
    "collapsed": false
   },
   "outputs": [],
   "source": [
    "#Concatenate data sets\n",
    "all_cabs = pd.concat([uber_trip_sub, green_trip_sub])"
   ]
  },
  {
   "cell_type": "markdown",
   "metadata": {},
   "source": [
    "### Create training and testing data"
   ]
  },
  {
   "cell_type": "code",
   "execution_count": 170,
   "metadata": {
    "collapsed": false
   },
   "outputs": [
    {
     "data": {
      "text/html": [
       "<div>\n",
       "<table border=\"1\" class=\"dataframe\">\n",
       "  <thead>\n",
       "    <tr style=\"text-align: right;\">\n",
       "      <th></th>\n",
       "      <th>date_only</th>\n",
       "      <th>day_month</th>\n",
       "      <th>day_week</th>\n",
       "      <th>day_year</th>\n",
       "      <th>hour</th>\n",
       "      <th>month</th>\n",
       "      <th>nta_code</th>\n",
       "      <th>pickup_datetime</th>\n",
       "      <th>time</th>\n",
       "      <th>trip</th>\n",
       "      <th>week_year</th>\n",
       "    </tr>\n",
       "  </thead>\n",
       "  <tbody>\n",
       "    <tr>\n",
       "      <th>0</th>\n",
       "      <td>2015-03-09</td>\n",
       "      <td>9</td>\n",
       "      <td>0</td>\n",
       "      <td>68</td>\n",
       "      <td>15</td>\n",
       "      <td>3</td>\n",
       "      <td>MN24</td>\n",
       "      <td>2015-03-09 15:17:00</td>\n",
       "      <td>15:17:00</td>\n",
       "      <td>1</td>\n",
       "      <td>11</td>\n",
       "    </tr>\n",
       "    <tr>\n",
       "      <th>1</th>\n",
       "      <td>2015-06-13</td>\n",
       "      <td>13</td>\n",
       "      <td>5</td>\n",
       "      <td>164</td>\n",
       "      <td>12</td>\n",
       "      <td>6</td>\n",
       "      <td>BK21</td>\n",
       "      <td>2015-06-13 12:09:00</td>\n",
       "      <td>12:09:00</td>\n",
       "      <td>1</td>\n",
       "      <td>24</td>\n",
       "    </tr>\n",
       "    <tr>\n",
       "      <th>2</th>\n",
       "      <td>2015-03-24</td>\n",
       "      <td>24</td>\n",
       "      <td>1</td>\n",
       "      <td>83</td>\n",
       "      <td>23</td>\n",
       "      <td>3</td>\n",
       "      <td>MN34</td>\n",
       "      <td>2015-03-24 23:17:00</td>\n",
       "      <td>23:17:00</td>\n",
       "      <td>1</td>\n",
       "      <td>13</td>\n",
       "    </tr>\n",
       "    <tr>\n",
       "      <th>3</th>\n",
       "      <td>2015-04-25</td>\n",
       "      <td>25</td>\n",
       "      <td>5</td>\n",
       "      <td>115</td>\n",
       "      <td>14</td>\n",
       "      <td>4</td>\n",
       "      <td>BK09</td>\n",
       "      <td>2015-04-25 14:40:00</td>\n",
       "      <td>14:40:00</td>\n",
       "      <td>1</td>\n",
       "      <td>17</td>\n",
       "    </tr>\n",
       "    <tr>\n",
       "      <th>4</th>\n",
       "      <td>2015-05-15</td>\n",
       "      <td>15</td>\n",
       "      <td>4</td>\n",
       "      <td>135</td>\n",
       "      <td>16</td>\n",
       "      <td>5</td>\n",
       "      <td>QN01</td>\n",
       "      <td>2015-05-15 16:22:00</td>\n",
       "      <td>16:22:00</td>\n",
       "      <td>1</td>\n",
       "      <td>20</td>\n",
       "    </tr>\n",
       "  </tbody>\n",
       "</table>\n",
       "</div>"
      ],
      "text/plain": [
       "    date_only  day_month  day_week  day_year  hour  month nta_code  \\\n",
       "0  2015-03-09          9         0        68    15      3     MN24   \n",
       "1  2015-06-13         13         5       164    12      6     BK21   \n",
       "2  2015-03-24         24         1        83    23      3     MN34   \n",
       "3  2015-04-25         25         5       115    14      4     BK09   \n",
       "4  2015-05-15         15         4       135    16      5     QN01   \n",
       "\n",
       "      pickup_datetime      time  trip  week_year  \n",
       "0 2015-03-09 15:17:00  15:17:00     1         11  \n",
       "1 2015-06-13 12:09:00  12:09:00     1         24  \n",
       "2 2015-03-24 23:17:00  23:17:00     1         13  \n",
       "3 2015-04-25 14:40:00  14:40:00     1         17  \n",
       "4 2015-05-15 16:22:00  16:22:00     1         20  "
      ]
     },
     "execution_count": 170,
     "metadata": {},
     "output_type": "execute_result"
    }
   ],
   "source": [
    "all_cabs.head()"
   ]
  },
  {
   "cell_type": "code",
   "execution_count": 171,
   "metadata": {
    "collapsed": false
   },
   "outputs": [],
   "source": [
    "nta_dummies = pd.get_dummies(all_cabs['nta_code'])\n",
    "all_cabs_cla = pd.concat([all_cabs,nta_dummies], axis=1)\n",
    "all_cabs_cla = all_cabs_cla.drop(['nta_code'], axis=1)"
   ]
  },
  {
   "cell_type": "code",
   "execution_count": 172,
   "metadata": {
    "collapsed": false
   },
   "outputs": [
    {
     "data": {
      "text/plain": [
       "48716"
      ]
     },
     "execution_count": 172,
     "metadata": {},
     "output_type": "execute_result"
    }
   ],
   "source": [
    "len(all_cabs_cla[all_cabs_cla['trip']==0])"
   ]
  },
  {
   "cell_type": "code",
   "execution_count": 173,
   "metadata": {
    "collapsed": false
   },
   "outputs": [
    {
     "data": {
      "text/plain": [
       "Index(['date_only', 'day_month', 'day_week', 'day_year', 'hour', 'month',\n",
       "       'pickup_datetime', 'time', 'trip', 'week_year',\n",
       "       ...\n",
       "       'SI07', 'SI08', 'SI12', 'SI14', 'SI24', 'SI25', 'SI28', 'SI35', 'SI36',\n",
       "       'SI37'],\n",
       "      dtype='object', length=193)"
      ]
     },
     "execution_count": 173,
     "metadata": {},
     "output_type": "execute_result"
    }
   ],
   "source": [
    "all_cabs_cla.columns"
   ]
  },
  {
   "cell_type": "code",
   "execution_count": 174,
   "metadata": {
    "collapsed": false
   },
   "outputs": [],
   "source": [
    "#delete datetime objects - because we cannot use classification on datetime objects\n",
    "all_cabs_cla.drop(['pickup_datetime','time', 'date_only'], axis=1, inplace=True)\n",
    "all_cabs_cla.dropna(inplace=True)"
   ]
  },
  {
   "cell_type": "code",
   "execution_count": 175,
   "metadata": {
    "collapsed": false
   },
   "outputs": [
    {
     "data": {
      "text/plain": [
       "(98716, 190)"
      ]
     },
     "execution_count": 175,
     "metadata": {},
     "output_type": "execute_result"
    }
   ],
   "source": [
    "all_cabs_cla.shape"
   ]
  },
  {
   "cell_type": "code",
   "execution_count": 176,
   "metadata": {
    "collapsed": false
   },
   "outputs": [],
   "source": [
    "#We removed month, year information because we wanted the classifier to use only day of the week, hour of the day and location\n",
    "#information to classify the trip as either Uber or Green\n",
    "all_cabs_cla.drop(['day_year','month', 'week_year'], axis=1, inplace=True)"
   ]
  },
  {
   "cell_type": "code",
   "execution_count": 177,
   "metadata": {
    "collapsed": false
   },
   "outputs": [],
   "source": [
    "#all_cabs_cla.drop(['day_month','day_week', 'hour'], axis=1, inplace=True)"
   ]
  },
  {
   "cell_type": "code",
   "execution_count": 178,
   "metadata": {
    "collapsed": false
   },
   "outputs": [],
   "source": [
    "x = all_cabs_cla.drop(['trip'], axis=1)\n",
    "y = all_cabs_cla.trip"
   ]
  },
  {
   "cell_type": "code",
   "execution_count": 198,
   "metadata": {
    "collapsed": true
   },
   "outputs": [],
   "source": [
    "#splitting the data into train and test\n",
    "x_train, x_test, y_train, y_test = train_test_split(x,y, test_size = 0.20)"
   ]
  },
  {
   "cell_type": "markdown",
   "metadata": {},
   "source": [
    "## Classifiers"
   ]
  },
  {
   "cell_type": "markdown",
   "metadata": {},
   "source": [
    "We use tuning parameters for each of the model. For random forest its tree depth, for adaboost its the number of estimators for logistic regression its with ridge penality and KNN its the number of neighbours"
   ]
  },
  {
   "cell_type": "code",
   "execution_count": 201,
   "metadata": {
    "collapsed": false
   },
   "outputs": [],
   "source": [
    "\n",
    "\n",
    "#Running different classification models. You can uncomment them to run. Currently only LogReg runs.\n",
    "classifiers = {}\n",
    "classifier_parameters = {}\n",
    "\n",
    "##### Random Forest classifier\n",
    "#classifiers['Random Forest'] = Pipeline([('clf', RandomForestClassifier())])\n",
    "#classifier_parameters['Random Forest'] = {'clf__max_depth':(1, 3, 9, 12, 15)}\n",
    "\n",
    "#AdaBoost classifier\n",
    "#classifiers['AdaBoost'] = Pipeline([('clf', AdaBoostClassifier())])\n",
    "#classifier_parameters['AdaBoost'] = {'clf__n_estimators':(30, 40, 50, 60, 70)}\n",
    "\n",
    "##### SVM\n",
    "#classifiers['SVM'] = Pipeline([('clf', SVC())])\n",
    "#classifier_parameters['SVM'] = {'clf__C':(0.1, 1, 10), 'clf__kernel': ('poly', 'rbf'), 'clf__gamma': (0.1, 0.5, 1)}\n",
    "\n",
    "#### Logistic Regression with Lasso\n",
    "classifiers['LogReg'] = Pipeline([('clf', LogisticRegression(penalty='l1'))])\n",
    "classifier_parameters['LogReg'] = {'clf__C':(0.1, 1, 10)}\n",
    "\n",
    "#### kNN\n",
    "#classifiers['kNN'] = Pipeline([('clf', neighbors.KNeighborsClassifier())])\n",
    "#classifier_parameters['kNN'] = {'clf__n_neighbors':(3,5,7), 'clf__weights': ('uniform', 'distance')}"
   ]
  },
  {
   "cell_type": "markdown",
   "metadata": {},
   "source": [
    "### Train Algorithm - Cross Validation"
   ]
  },
  {
   "cell_type": "code",
   "execution_count": 202,
   "metadata": {
    "collapsed": false
   },
   "outputs": [
    {
     "name": "stdout",
     "output_type": "stream",
     "text": [
      "Fold 1: LogReg\n",
      "Fold 2: LogReg\n",
      "Fold 3: LogReg\n",
      "Fold 4: LogReg\n",
      "Fold 5: LogReg\n",
      "Fold 6: LogReg\n",
      "Fold 7: LogReg\n",
      "Fold 8: LogReg\n",
      "Fold 9: LogReg\n",
      "Fold 10: LogReg\n"
     ]
    }
   ],
   "source": [
    "# Create a label encoder to transform output labels.\n",
    "le = LabelEncoder() \n",
    "\n",
    "# Split features and class into two dataframes.\n",
    "X_training = x_train.values\n",
    "y_training = le.fit_transform(y_train.values)\n",
    "\n",
    "# Initialize scores dictionary\n",
    "scores = pd.DataFrame(columns=['fold', 'algorithm', 'parameters', 'accuracy', 'precision', 'recall', 'fbeta_score', 'f1_score'])\n",
    "\n",
    "# 10 fold CV\n",
    "kf = KFold(n_splits=10, shuffle=True)\n",
    "\n",
    "# Outer Cross Validation\n",
    "fold = 0\n",
    "for train_index, test_index in kf.split(X_training):\n",
    "    X_train, X_test = X_training[train_index], X_training[test_index]\n",
    "    Y_train, Y_test = y_training[train_index], y_training[test_index]\n",
    "    \n",
    "    fold = fold + 1\n",
    "\n",
    "    # Inner CV\n",
    "    for name, clf in classifiers.items():\n",
    "        print('Fold ' + str(fold) + ': ' + name)\n",
    "        if name in classifier_parameters:\n",
    "            gs = GridSearchCV(estimator=clf, param_grid=classifier_parameters[name])\n",
    "            gs.fit(X_train, Y_train)\n",
    "            y_pred = gs.predict(X_test)\n",
    "            best_params = str(gs.best_params_)\n",
    "        else:\n",
    "            clf.fit(X_train, Y_train)\n",
    "            y_pred = clf.predict(Y_test)\n",
    "            best_params = 'default'\n",
    "        \n",
    "        # collect the scores for printing out later\n",
    "        scores = scores.append(pd.DataFrame(data={'fold':[fold],\n",
    "                                                  'algorithm':[name], \n",
    "                                                  'parameters':[best_params], \n",
    "                                                  'accuracy':[accuracy_score(Y_test, y_pred)], \n",
    "                                                  'precision':[precision_score(Y_test, y_pred, average='weighted')],\n",
    "                                                  'recall':[recall_score(Y_test, y_pred, average='weighted')],\n",
    "                                                  'fbeta_score':[fbeta_score(Y_test, y_pred, beta=1)],\n",
    "                                                  'f1_score':[f1_score(Y_test, y_pred, average='weighted')]}), \n",
    "                               ignore_index=True)\n",
    "        "
   ]
  },
  {
   "cell_type": "code",
   "execution_count": 203,
   "metadata": {
    "collapsed": false
   },
   "outputs": [
    {
     "data": {
      "text/html": [
       "<div>\n",
       "<table border=\"1\" class=\"dataframe\">\n",
       "  <thead>\n",
       "    <tr style=\"text-align: right;\">\n",
       "      <th></th>\n",
       "      <th>accuracy</th>\n",
       "      <th>precision</th>\n",
       "      <th>recall</th>\n",
       "      <th>f1_score</th>\n",
       "      <th>fbeta_score</th>\n",
       "    </tr>\n",
       "    <tr>\n",
       "      <th>algorithm</th>\n",
       "      <th></th>\n",
       "      <th></th>\n",
       "      <th></th>\n",
       "      <th></th>\n",
       "      <th></th>\n",
       "    </tr>\n",
       "  </thead>\n",
       "  <tbody>\n",
       "    <tr>\n",
       "      <th>LogReg</th>\n",
       "      <td>0.878045</td>\n",
       "      <td>0.891402</td>\n",
       "      <td>0.878045</td>\n",
       "      <td>0.877149</td>\n",
       "      <td>0.867438</td>\n",
       "    </tr>\n",
       "  </tbody>\n",
       "</table>\n",
       "</div>"
      ],
      "text/plain": [
       "           accuracy  precision    recall  f1_score  fbeta_score\n",
       "algorithm                                                      \n",
       "LogReg     0.878045   0.891402  0.878045  0.877149     0.867438"
      ]
     },
     "execution_count": 203,
     "metadata": {},
     "output_type": "execute_result"
    }
   ],
   "source": [
    "scores[['algorithm', 'accuracy', 'precision', 'recall', 'f1_score', 'fbeta_score']].groupby(['algorithm']).mean()"
   ]
  },
  {
   "cell_type": "code",
   "execution_count": 204,
   "metadata": {
    "collapsed": false
   },
   "outputs": [
    {
     "data": {
      "text/html": [
       "<div>\n",
       "<table border=\"1\" class=\"dataframe\">\n",
       "  <thead>\n",
       "    <tr style=\"text-align: right;\">\n",
       "      <th></th>\n",
       "      <th>algorithm</th>\n",
       "      <th>f1_score</th>\n",
       "      <th>parameters</th>\n",
       "    </tr>\n",
       "  </thead>\n",
       "  <tbody>\n",
       "    <tr>\n",
       "      <th>0</th>\n",
       "      <td>LogReg</td>\n",
       "      <td>0.871621</td>\n",
       "      <td>{'clf__C': 1}</td>\n",
       "    </tr>\n",
       "    <tr>\n",
       "      <th>1</th>\n",
       "      <td>LogReg</td>\n",
       "      <td>0.875391</td>\n",
       "      <td>{'clf__C': 10}</td>\n",
       "    </tr>\n",
       "    <tr>\n",
       "      <th>2</th>\n",
       "      <td>LogReg</td>\n",
       "      <td>0.877539</td>\n",
       "      <td>{'clf__C': 10}</td>\n",
       "    </tr>\n",
       "    <tr>\n",
       "      <th>3</th>\n",
       "      <td>LogReg</td>\n",
       "      <td>0.880505</td>\n",
       "      <td>{'clf__C': 10}</td>\n",
       "    </tr>\n",
       "    <tr>\n",
       "      <th>4</th>\n",
       "      <td>LogReg</td>\n",
       "      <td>0.879925</td>\n",
       "      <td>{'clf__C': 10}</td>\n",
       "    </tr>\n",
       "    <tr>\n",
       "      <th>5</th>\n",
       "      <td>LogReg</td>\n",
       "      <td>0.881631</td>\n",
       "      <td>{'clf__C': 10}</td>\n",
       "    </tr>\n",
       "    <tr>\n",
       "      <th>6</th>\n",
       "      <td>LogReg</td>\n",
       "      <td>0.875294</td>\n",
       "      <td>{'clf__C': 10}</td>\n",
       "    </tr>\n",
       "    <tr>\n",
       "      <th>7</th>\n",
       "      <td>LogReg</td>\n",
       "      <td>0.880645</td>\n",
       "      <td>{'clf__C': 10}</td>\n",
       "    </tr>\n",
       "    <tr>\n",
       "      <th>8</th>\n",
       "      <td>LogReg</td>\n",
       "      <td>0.869495</td>\n",
       "      <td>{'clf__C': 1}</td>\n",
       "    </tr>\n",
       "    <tr>\n",
       "      <th>9</th>\n",
       "      <td>LogReg</td>\n",
       "      <td>0.879439</td>\n",
       "      <td>{'clf__C': 1}</td>\n",
       "    </tr>\n",
       "  </tbody>\n",
       "</table>\n",
       "</div>"
      ],
      "text/plain": [
       "  algorithm  f1_score      parameters\n",
       "0    LogReg  0.871621   {'clf__C': 1}\n",
       "1    LogReg  0.875391  {'clf__C': 10}\n",
       "2    LogReg  0.877539  {'clf__C': 10}\n",
       "3    LogReg  0.880505  {'clf__C': 10}\n",
       "4    LogReg  0.879925  {'clf__C': 10}\n",
       "5    LogReg  0.881631  {'clf__C': 10}\n",
       "6    LogReg  0.875294  {'clf__C': 10}\n",
       "7    LogReg  0.880645  {'clf__C': 10}\n",
       "8    LogReg  0.869495   {'clf__C': 1}\n",
       "9    LogReg  0.879439   {'clf__C': 1}"
      ]
     },
     "execution_count": 204,
     "metadata": {},
     "output_type": "execute_result"
    }
   ],
   "source": [
    "scores[['algorithm', 'f1_score', 'parameters']][scores['algorithm']=='LogReg']"
   ]
  },
  {
   "cell_type": "markdown",
   "metadata": {},
   "source": [
    "### Test in test data set"
   ]
  },
  {
   "cell_type": "markdown",
   "metadata": {},
   "source": [
    "Finally, we used the model with the best performance to see the results in the TEST data set."
   ]
  },
  {
   "cell_type": "code",
   "execution_count": 205,
   "metadata": {
    "collapsed": false
   },
   "outputs": [
    {
     "data": {
      "text/plain": [
       "LogisticRegression(C=1.0, class_weight=None, dual=False, fit_intercept=True,\n",
       "          intercept_scaling=1, max_iter=100, multi_class='ovr', n_jobs=1,\n",
       "          penalty='l1', random_state=None, solver='liblinear', tol=0.0001,\n",
       "          verbose=0, warm_start=False)"
      ]
     },
     "execution_count": 205,
     "metadata": {},
     "output_type": "execute_result"
    }
   ],
   "source": [
    "le = LabelEncoder() \n",
    "\n",
    "# Split features and class into two dataframes.\n",
    "X_training = x_train.values\n",
    "y_training = le.fit_transform(y_train.values)\n",
    "\n",
    "clf = LogisticRegression(penalty='l1')\n",
    "clf.fit(X_training, y_training)"
   ]
  },
  {
   "cell_type": "code",
   "execution_count": 206,
   "metadata": {
    "collapsed": false
   },
   "outputs": [
    {
     "name": "stdout",
     "output_type": "stream",
     "text": [
      "0.870257304841\n"
     ]
    }
   ],
   "source": [
    "y_pred = clf.predict(x_test)\n",
    "y_test_le = le.fit_transform(y_test.values)\n",
    "\n",
    "print(fbeta_score(y_test_le, y_pred, beta=1))"
   ]
  },
  {
   "cell_type": "markdown",
   "metadata": {},
   "source": [
    "From classification using 10-Fold Cross Validation to estimate classification scores using tuning parameters we found out that location had a significant effect on finding the type of service that was used than compared to the time of the day.\n",
    "\n",
    "The best model was LogReg which gave a F1 score of 0.87 on the test data"
   ]
  }
 ],
 "metadata": {
  "anaconda-cloud": {},
  "kernelspec": {
   "display_name": "Python 3",
   "language": "python",
   "name": "python3"
  },
  "language_info": {
   "codemirror_mode": {
    "name": "ipython",
    "version": 3
   },
   "file_extension": ".py",
   "mimetype": "text/x-python",
   "name": "python",
   "nbconvert_exporter": "python",
   "pygments_lexer": "ipython3",
   "version": "3.5.2"
  }
 },
 "nbformat": 4,
 "nbformat_minor": 1
}
